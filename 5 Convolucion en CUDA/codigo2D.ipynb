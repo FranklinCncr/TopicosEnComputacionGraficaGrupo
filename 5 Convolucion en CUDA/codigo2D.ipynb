{
  "nbformat": 4,
  "nbformat_minor": 0,
  "metadata": {
    "colab": {
      "name": "tcg lab convolucion en cuda.ipynb",
      "provenance": [],
      "collapsed_sections": [],
      "mount_file_id": "1QqqQ-t757Pe0KQ4xP3jG1kntKps6Ixai",
      "authorship_tag": "ABX9TyNxSuMDM/qB+4ajyUiwrTW7",
      "include_colab_link": true
    },
    "kernelspec": {
      "name": "python3",
      "display_name": "Python 3"
    },
    "accelerator": "GPU"
  },
  "cells": [
    {
      "cell_type": "markdown",
      "metadata": {
        "id": "view-in-github",
        "colab_type": "text"
      },
      "source": [
        "<a href=\"https://colab.research.google.com/github/FranklinCncr/TopicosEnComputacionGraficaGrupo/blob/master/5%20Convolucion%20en%20CUDA/codigo2D.ipynb\" target=\"_parent\"><img src=\"https://colab.research.google.com/assets/colab-badge.svg\" alt=\"Open In Colab\"/></a>"
      ]
    },
    {
      "cell_type": "code",
      "metadata": {
        "id": "QVy0QNCU-Ep_",
        "colab_type": "code",
        "colab": {
          "base_uri": "https://localhost:8080/",
          "height": 34
        },
        "outputId": "144ac1c5-cfae-4dd4-c19a-7027e6305a18"
      },
      "source": [
        "%cd \"/content/drive/My Drive/topicos en grafica/lab conv cuda\""
      ],
      "execution_count": 3,
      "outputs": [
        {
          "output_type": "stream",
          "text": [
            "/content/drive/My Drive/topicos en grafica/lab conv cuda\n"
          ],
          "name": "stdout"
        }
      ]
    },
    {
      "cell_type": "code",
      "metadata": {
        "id": "sMkFVQ7k-o4u",
        "colab_type": "code",
        "colab": {
          "base_uri": "https://localhost:8080/",
          "height": 34
        },
        "outputId": "88269284-65b6-49ea-c5f8-5b79707b3611"
      },
      "source": [
        "!nvcc conv2d.cu `pkg-config --cflags --libs opencv` -o conv; ./conv"
      ],
      "execution_count": 5,
      "outputs": [
        {
          "output_type": "stream",
          "text": [
            "ok\n"
          ],
          "name": "stdout"
        }
      ]
    },
    {
      "cell_type": "code",
      "metadata": {
        "id": "ZhFW0Mr9-XPF",
        "colab_type": "code",
        "colab": {
          "base_uri": "https://localhost:8080/",
          "height": 34
        },
        "outputId": "bcd35764-838a-450e-84a2-35fe4a84fe58"
      },
      "source": [
        "%%writefile conv2d.cu\n",
        "#include <bits/stdc++.h>\n",
        "#include <opencv2/opencv.hpp>\n",
        "\n",
        "using namespace std;\n",
        "using namespace cv;\n",
        "\n",
        "__global__ void conv(float *d_imgFR, float *d_kernel, float *d_salida, int w, int h, int ch, int kernelDim){    \n",
        "    \n",
        "    int bidx = blockIdx.x;\n",
        "    int bidy = blockIdx.y;\n",
        "    int bidz = blockIdx.z;\n",
        "\n",
        "    int tidx = threadIdx.x;\n",
        "    int tidy = threadIdx.y;\n",
        "\n",
        "    int fil = bidx*w*ch;\n",
        "    int col = bidy*ch;\n",
        "\n",
        "    int kernelFil = ( bidx + (bidz-(kernelDim/2)) )*w*ch;\n",
        "    int kernelCol = ( bidy + (tidx-(kernelDim/2)) )*ch;\n",
        "\n",
        "    if (kernelFil>=0 && kernelFil<h*w*ch && kernelCol>=0 && kernelCol<w*ch){\n",
        "\n",
        "      float suma = d_imgFR[ kernelFil+kernelCol+tidy ] \n",
        "                    *\n",
        "                    d_kernel[ bidz*kernelDim*ch + tidx*ch + tidy ];\n",
        "\n",
        "      atomicAdd(&d_salida[ fil+col+tidy ], suma);\n",
        "\n",
        "    }\n",
        "}\n",
        "\n",
        "\n",
        "int main()\n",
        "{\n",
        "    Mat img = imread(\"coliseo.jpg\"); //CV_8UC3\n",
        "    int w = img.cols;\n",
        "    int h = img.rows;\n",
        "    int ch = img.channels();\n",
        " \n",
        "    Mat imgFR;\n",
        "    img.convertTo(imgFR, CV_32F, 1.0/255.0);\n",
        "    int B = sizeof(float);\n",
        "  \n",
        "    int kernelDim = 9; //kernel de 9x9\n",
        " \n",
        "    float *kernel = new float[kernelDim*kernelDim*ch];\n",
        "    for (int i=0; i<kernelDim; i++)\n",
        "      for (int j=0; j<kernelDim; j++)\n",
        "        for (int k=0; k<ch; k++)\n",
        "          kernel[i*kernelDim*ch + j*ch +k] = 1.0/(kernelDim*kernelDim);;\n",
        "\n",
        "    float *salida = new float[w*h*ch];\n",
        "    for (int i=0; i<w*h*ch; i++)\n",
        "      salida[i] = 0.0;\n",
        "\n",
        "    float *d_imgFR;\n",
        "    float *d_kernel;\n",
        "    float *d_salida;    \n",
        "\n",
        "    cudaMalloc((void**)&d_imgFR, w*h*ch*B);\n",
        "    cudaMalloc((void**)&d_kernel, kernelDim*kernelDim*ch*B);\n",
        "    cudaMalloc((void**)&d_salida, w*h*ch*B);\n",
        " \n",
        "    cudaMemcpy(d_imgFR, imgFR.data, w*h*ch*B, cudaMemcpyHostToDevice);\n",
        "    cudaMemcpy(d_kernel, kernel, kernelDim*kernelDim*ch*B, cudaMemcpyHostToDevice);\n",
        "    cudaMemcpy(d_salida, salida, w*h*ch*B, cudaMemcpyHostToDevice);\n",
        "\n",
        "    dim3 blocks( h, w, kernelDim ); // blockIdx.x (0...h]     , blockIdx.y(0..w]      blockId.z (0...9]\n",
        "    dim3 threads( kernelDim, ch );  // threadIdx.x (0...9]   threadIdx.y (0..3]\n",
        " \n",
        "    conv<<<blocks,threads>>>(d_imgFR, d_kernel, d_salida, w, h, ch, kernelDim);\n",
        " \n",
        "    cudaMemcpy(salida, d_salida, w*h*ch*B, cudaMemcpyDeviceToHost);\n",
        " \n",
        "    Mat imgSalidaFR(h, w, CV_32FC3, salida);\n",
        "    Mat imgSalida;\n",
        "    imgSalidaFR.convertTo(imgSalida, CV_8U, 255.0);\n",
        "    imwrite(\"salida.jpg\", imgSalida);\n",
        "\n",
        "    cudaFree(d_salida);\n",
        "    cudaFree(d_imgFR);\n",
        "    free(salida);\n",
        " \n",
        "    cout<<\"ok\\n\";\n",
        "  \n",
        "    return 0;\n",
        "}"
      ],
      "execution_count": 4,
      "outputs": [
        {
          "output_type": "stream",
          "text": [
            "Overwriting conv2d.cu\n"
          ],
          "name": "stdout"
        }
      ]
    }
  ]
}